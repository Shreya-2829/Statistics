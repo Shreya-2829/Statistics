{
 "cells": [
  {
   "cell_type": "markdown",
   "id": "6915190f-775a-469c-b491-f4b78d2264e4",
   "metadata": {},
   "source": [
    "# Outliers"
   ]
  },
  {
   "cell_type": "code",
   "execution_count": 1,
   "id": "0ff9eb7a-3deb-4895-b853-5170fb826d3a",
   "metadata": {},
   "outputs": [],
   "source": [
    "import numpy as np\n",
    "import matplotlib.pyplot as plt\n",
    "%matplotlib inline\n"
   ]
  },
  {
   "cell_type": "code",
   "execution_count": 2,
   "id": "754a9bc8-a566-4bb4-a6c0-99b8a6237ad1",
   "metadata": {},
   "outputs": [],
   "source": [
    "\n",
    "## Define our dataset\n",
    "dataset= [11,10,12,14,12,15,14,13,15,102,12,14,17,19,107, 10,13,12,14,12,108,12,11,14,13,15,10,15,12,10,14,13,15,10]"
   ]
  },
  {
   "cell_type": "code",
   "execution_count": 3,
   "id": "589179b2-0625-4cd8-9ec5-876914d2d1d0",
   "metadata": {},
   "outputs": [],
   "source": [
    "\n",
    "## Define our dataset\n",
    "dataset= [11,10,12,14,12,15,14,13,15,102,12,14,17,19,107, 10,13,12,14,12,108,12,11,14,13,15,10,15,12,10,14,13,15,10]"
   ]
  },
  {
   "cell_type": "code",
   "execution_count": 10,
   "id": "c9836126-7a5f-4e3b-9e27-806bdc92fba4",
   "metadata": {},
   "outputs": [],
   "source": [
    "outliers=[]\n",
    "\n",
    "def detect_outlier(data):\n",
    "    threshold=3 # 3rd std dev after the data points are outliers\n",
    "    mean=np.mean(data)\n",
    "    sd=np.std(data)\n",
    "\n",
    "    for i in data:\n",
    "        z_score=(i-mean)/sd\n",
    "        if np.abs(z_score)>threshold:\n",
    "            outliers.append(i)\n",
    "    return outliers"
   ]
  },
  {
   "cell_type": "code",
   "execution_count": 11,
   "id": "75e58fd1-fb49-471a-a9c4-39689a7d4453",
   "metadata": {},
   "outputs": [
    {
     "data": {
      "text/plain": [
       "[102, 107, 108]"
      ]
     },
     "execution_count": 11,
     "metadata": {},
     "output_type": "execute_result"
    }
   ],
   "source": [
    "detect_outlier(dataset)"
   ]
  },
  {
   "cell_type": "markdown",
   "id": "e2c9b93a-9475-4cc5-9131-9381502a214f",
   "metadata": {},
   "source": [
    "# IQR\n",
    "-------------\n",
    "1) sort data\n",
    "2) calculate Q1 and Q3\n",
    "3) IQR(Q3-Q1)\n",
    "4) Find lower fence(Q1-1.5(IQR))\n",
    "5) Find upper fence(Q3+1.5(IQR))"
   ]
  },
  {
   "cell_type": "code",
   "execution_count": 14,
   "id": "10f462b1-313e-4a36-8e99-7a179e477b1e",
   "metadata": {},
   "outputs": [
    {
     "data": {
      "text/plain": [
       "[10,\n",
       " 10,\n",
       " 10,\n",
       " 10,\n",
       " 10,\n",
       " 11,\n",
       " 11,\n",
       " 12,\n",
       " 12,\n",
       " 12,\n",
       " 12,\n",
       " 12,\n",
       " 12,\n",
       " 12,\n",
       " 13,\n",
       " 13,\n",
       " 13,\n",
       " 13,\n",
       " 14,\n",
       " 14,\n",
       " 14,\n",
       " 14,\n",
       " 14,\n",
       " 14,\n",
       " 15,\n",
       " 15,\n",
       " 15,\n",
       " 15,\n",
       " 15,\n",
       " 17,\n",
       " 19,\n",
       " 102,\n",
       " 107,\n",
       " 108]"
      ]
     },
     "execution_count": 14,
     "metadata": {},
     "output_type": "execute_result"
    }
   ],
   "source": [
    "dataset=sorted(dataset)\n",
    "dataset"
   ]
  },
  {
   "cell_type": "code",
   "execution_count": 16,
   "id": "f86c63a4-70ca-4f25-840f-bac8b7a53a0f",
   "metadata": {},
   "outputs": [],
   "source": [
    "Q1,Q3=np.percentile(dataset,[25,75])"
   ]
  },
  {
   "cell_type": "code",
   "execution_count": 17,
   "id": "3f66db97-e712-4811-8eed-2a87eba5ec51",
   "metadata": {},
   "outputs": [
    {
     "name": "stdout",
     "output_type": "stream",
     "text": [
      "12.0 15.0\n"
     ]
    }
   ],
   "source": [
    "print(Q1,Q3)"
   ]
  },
  {
   "cell_type": "code",
   "execution_count": 20,
   "id": "20eb3c13-dd7b-40cc-b0b8-90c9e3d9352e",
   "metadata": {},
   "outputs": [
    {
     "data": {
      "text/plain": [
       "3.0"
      ]
     },
     "execution_count": 20,
     "metadata": {},
     "output_type": "execute_result"
    }
   ],
   "source": [
    "iqr=Q3-Q1\n",
    "iqr"
   ]
  },
  {
   "cell_type": "markdown",
   "id": "a199de0a-7bd6-41d9-bd12-57dc31329ade",
   "metadata": {},
   "source": [
    "# Find lower fence and higher fence"
   ]
  },
  {
   "cell_type": "code",
   "execution_count": 21,
   "id": "2590f7a6-e391-4d67-84b4-b9c95ca86985",
   "metadata": {},
   "outputs": [],
   "source": [
    "lower=Q1-(1.5*iqr)\n",
    "higher=Q3+(1.5*iqr)"
   ]
  },
  {
   "cell_type": "code",
   "execution_count": 22,
   "id": "a495ae8b-e4f7-4f01-a1b4-8a87737898aa",
   "metadata": {},
   "outputs": [
    {
     "name": "stdout",
     "output_type": "stream",
     "text": [
      "7.5 19.5\n"
     ]
    }
   ],
   "source": [
    "print(lower,higher)"
   ]
  },
  {
   "cell_type": "code",
   "execution_count": 24,
   "id": "2aab7fef-9c60-4093-b492-540b62e65944",
   "metadata": {},
   "outputs": [
    {
     "data": {
      "image/png": "[encoded data removed]",
      "text/plain": [
       "<Figure size 640x480 with 1 Axes>"
      ]
     },
     "metadata": {},
     "output_type": "display_data"
    }
   ],
   "source": [
    "import seaborn as sns\n",
    "sns.boxplot(dataset)\n",
    "plt.show()"
   ]
  },
  {
   "cell_type": "code",
   "execution_count": null,
   "id": "71d1e734-efb9-4cad-994a-ec5f217d41fa",
   "metadata": {},
   "outputs": [],
   "source": []
  }
 ],
 "metadata": {
  "kernelspec": {
   "display_name": "Python 3 (ipykernel)",
   "language": "python",
   "name": "python3"
  },
  "language_info": {
   "codemirror_mode": {
    "name": "ipython",
    "version": 3
   },
   "file_extension": ".py",
   "mimetype": "text/x-python",
   "name": "python",
   "nbconvert_exporter": "python",
   "pygments_lexer": "ipython3",
   "version": "3.12.7"
  }
 },
 "nbformat": 4,
 "nbformat_minor": 5
}
